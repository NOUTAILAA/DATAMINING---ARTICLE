{
  "nbformat": 4,
  "nbformat_minor": 0,
  "metadata": {
    "colab": {
      "provenance": [],
      "authorship_tag": "ABX9TyPXN2eEsq5io9F14cGn9+MC",
      "include_colab_link": true
    },
    "kernelspec": {
      "name": "python3",
      "display_name": "Python 3"
    },
    "language_info": {
      "name": "python"
    }
  },
  "cells": [
    {
      "cell_type": "markdown",
      "metadata": {
        "id": "view-in-github",
        "colab_type": "text"
      },
      "source": [
        "<a href=\"https://colab.research.google.com/github/NOUTAILAA/DATAMINING---ARTICLE/blob/main/DATAMINING_ARTICLE.ipynb\" target=\"_parent\"><img src=\"https://colab.research.google.com/assets/colab-badge.svg\" alt=\"Open In Colab\"/></a>"
      ]
    },
    {
      "cell_type": "code",
      "execution_count": null,
      "metadata": {
        "colab": {
          "base_uri": "https://localhost:8080/",
          "height": 73
        },
        "id": "zv-ym2kuO_lk",
        "outputId": "8fc60749-da6f-48eb-9108-1401199c2eed"
      },
      "outputs": [
        {
          "output_type": "display_data",
          "data": {
            "text/plain": [
              "<IPython.core.display.HTML object>"
            ],
            "text/html": [
              "\n",
              "     <input type=\"file\" id=\"files-5bb71255-f723-4800-9a84-4ae9dfe7da97\" name=\"files[]\" multiple disabled\n",
              "        style=\"border:none\" />\n",
              "     <output id=\"result-5bb71255-f723-4800-9a84-4ae9dfe7da97\">\n",
              "      Upload widget is only available when the cell has been executed in the\n",
              "      current browser session. Please rerun this cell to enable.\n",
              "      </output>\n",
              "      <script>// Copyright 2017 Google LLC\n",
              "//\n",
              "// Licensed under the Apache License, Version 2.0 (the \"License\");\n",
              "// you may not use this file except in compliance with the License.\n",
              "// You may obtain a copy of the License at\n",
              "//\n",
              "//      http://www.apache.org/licenses/LICENSE-2.0\n",
              "//\n",
              "// Unless required by applicable law or agreed to in writing, software\n",
              "// distributed under the License is distributed on an \"AS IS\" BASIS,\n",
              "// WITHOUT WARRANTIES OR CONDITIONS OF ANY KIND, either express or implied.\n",
              "// See the License for the specific language governing permissions and\n",
              "// limitations under the License.\n",
              "\n",
              "/**\n",
              " * @fileoverview Helpers for google.colab Python module.\n",
              " */\n",
              "(function(scope) {\n",
              "function span(text, styleAttributes = {}) {\n",
              "  const element = document.createElement('span');\n",
              "  element.textContent = text;\n",
              "  for (const key of Object.keys(styleAttributes)) {\n",
              "    element.style[key] = styleAttributes[key];\n",
              "  }\n",
              "  return element;\n",
              "}\n",
              "\n",
              "// Max number of bytes which will be uploaded at a time.\n",
              "const MAX_PAYLOAD_SIZE = 100 * 1024;\n",
              "\n",
              "function _uploadFiles(inputId, outputId) {\n",
              "  const steps = uploadFilesStep(inputId, outputId);\n",
              "  const outputElement = document.getElementById(outputId);\n",
              "  // Cache steps on the outputElement to make it available for the next call\n",
              "  // to uploadFilesContinue from Python.\n",
              "  outputElement.steps = steps;\n",
              "\n",
              "  return _uploadFilesContinue(outputId);\n",
              "}\n",
              "\n",
              "// This is roughly an async generator (not supported in the browser yet),\n",
              "// where there are multiple asynchronous steps and the Python side is going\n",
              "// to poll for completion of each step.\n",
              "// This uses a Promise to block the python side on completion of each step,\n",
              "// then passes the result of the previous step as the input to the next step.\n",
              "function _uploadFilesContinue(outputId) {\n",
              "  const outputElement = document.getElementById(outputId);\n",
              "  const steps = outputElement.steps;\n",
              "\n",
              "  const next = steps.next(outputElement.lastPromiseValue);\n",
              "  return Promise.resolve(next.value.promise).then((value) => {\n",
              "    // Cache the last promise value to make it available to the next\n",
              "    // step of the generator.\n",
              "    outputElement.lastPromiseValue = value;\n",
              "    return next.value.response;\n",
              "  });\n",
              "}\n",
              "\n",
              "/**\n",
              " * Generator function which is called between each async step of the upload\n",
              " * process.\n",
              " * @param {string} inputId Element ID of the input file picker element.\n",
              " * @param {string} outputId Element ID of the output display.\n",
              " * @return {!Iterable<!Object>} Iterable of next steps.\n",
              " */\n",
              "function* uploadFilesStep(inputId, outputId) {\n",
              "  const inputElement = document.getElementById(inputId);\n",
              "  inputElement.disabled = false;\n",
              "\n",
              "  const outputElement = document.getElementById(outputId);\n",
              "  outputElement.innerHTML = '';\n",
              "\n",
              "  const pickedPromise = new Promise((resolve) => {\n",
              "    inputElement.addEventListener('change', (e) => {\n",
              "      resolve(e.target.files);\n",
              "    });\n",
              "  });\n",
              "\n",
              "  const cancel = document.createElement('button');\n",
              "  inputElement.parentElement.appendChild(cancel);\n",
              "  cancel.textContent = 'Cancel upload';\n",
              "  const cancelPromise = new Promise((resolve) => {\n",
              "    cancel.onclick = () => {\n",
              "      resolve(null);\n",
              "    };\n",
              "  });\n",
              "\n",
              "  // Wait for the user to pick the files.\n",
              "  const files = yield {\n",
              "    promise: Promise.race([pickedPromise, cancelPromise]),\n",
              "    response: {\n",
              "      action: 'starting',\n",
              "    }\n",
              "  };\n",
              "\n",
              "  cancel.remove();\n",
              "\n",
              "  // Disable the input element since further picks are not allowed.\n",
              "  inputElement.disabled = true;\n",
              "\n",
              "  if (!files) {\n",
              "    return {\n",
              "      response: {\n",
              "        action: 'complete',\n",
              "      }\n",
              "    };\n",
              "  }\n",
              "\n",
              "  for (const file of files) {\n",
              "    const li = document.createElement('li');\n",
              "    li.append(span(file.name, {fontWeight: 'bold'}));\n",
              "    li.append(span(\n",
              "        `(${file.type || 'n/a'}) - ${file.size} bytes, ` +\n",
              "        `last modified: ${\n",
              "            file.lastModifiedDate ? file.lastModifiedDate.toLocaleDateString() :\n",
              "                                    'n/a'} - `));\n",
              "    const percent = span('0% done');\n",
              "    li.appendChild(percent);\n",
              "\n",
              "    outputElement.appendChild(li);\n",
              "\n",
              "    const fileDataPromise = new Promise((resolve) => {\n",
              "      const reader = new FileReader();\n",
              "      reader.onload = (e) => {\n",
              "        resolve(e.target.result);\n",
              "      };\n",
              "      reader.readAsArrayBuffer(file);\n",
              "    });\n",
              "    // Wait for the data to be ready.\n",
              "    let fileData = yield {\n",
              "      promise: fileDataPromise,\n",
              "      response: {\n",
              "        action: 'continue',\n",
              "      }\n",
              "    };\n",
              "\n",
              "    // Use a chunked sending to avoid message size limits. See b/62115660.\n",
              "    let position = 0;\n",
              "    do {\n",
              "      const length = Math.min(fileData.byteLength - position, MAX_PAYLOAD_SIZE);\n",
              "      const chunk = new Uint8Array(fileData, position, length);\n",
              "      position += length;\n",
              "\n",
              "      const base64 = btoa(String.fromCharCode.apply(null, chunk));\n",
              "      yield {\n",
              "        response: {\n",
              "          action: 'append',\n",
              "          file: file.name,\n",
              "          data: base64,\n",
              "        },\n",
              "      };\n",
              "\n",
              "      let percentDone = fileData.byteLength === 0 ?\n",
              "          100 :\n",
              "          Math.round((position / fileData.byteLength) * 100);\n",
              "      percent.textContent = `${percentDone}% done`;\n",
              "\n",
              "    } while (position < fileData.byteLength);\n",
              "  }\n",
              "\n",
              "  // All done.\n",
              "  yield {\n",
              "    response: {\n",
              "      action: 'complete',\n",
              "    }\n",
              "  };\n",
              "}\n",
              "\n",
              "scope.google = scope.google || {};\n",
              "scope.google.colab = scope.google.colab || {};\n",
              "scope.google.colab._files = {\n",
              "  _uploadFiles,\n",
              "  _uploadFilesContinue,\n",
              "};\n",
              "})(self);\n",
              "</script> "
            ]
          },
          "metadata": {}
        },
        {
          "output_type": "stream",
          "name": "stdout",
          "text": [
            "Saving articles.csv to articles.csv\n"
          ]
        }
      ],
      "source": [
        "from google.colab import files\n",
        "uploaded = files.upload()\n"
      ]
    },
    {
      "cell_type": "markdown",
      "source": [
        "TOKENISATION\n",
        "\n",
        "1-mettre tout le texte en miniscule\n",
        "\n",
        "2-Extraire les mots (tokenisation) : Tout ce qui n'est pas un mot (comme la ponctuation ou les espaces) est ignoré.\n",
        "\n",
        "3-Créer une liste de mots :Le texte de chaque ligne de la colonne text est transformé en une liste de mots (appelée \"tokens\"),"
      ],
      "metadata": {
        "id": "Bu5_G6b7bM4w"
      }
    },
    {
      "cell_type": "code",
      "source": [
        "import pandas as pd\n",
        "import re\n",
        "\n",
        "\n",
        "# Remplacez 'articles.csv' par le nom exact du fichier que vous avez chargé\n",
        "file_name = list(uploaded.keys())[0]\n",
        "articles_df = pd.read_csv(file_name)\n",
        "\n",
        "# Vérifier les premières lignes du dataset\n",
        "print(\"Aperçu des données :\")\n",
        "print(articles_df.head())\n",
        "\n",
        "# Fonction de tokenisation simple\n",
        "def simple_tokenize(text):\n",
        "    return re.findall(r'\\b\\w+\\b', str(text).lower())  # Convertir en string pour éviter les erreurs\n",
        "\n",
        "# Appliquer la tokenisation sur la colonne 'text'\n",
        "if 'text' in articles_df.columns:\n",
        "    articles_df['tokens'] = articles_df['text'].apply(simple_tokenize)\n",
        "    print(\"\\nExemple avec tokens :\")\n",
        "    print(articles_df[['text', 'tokens']].head())\n",
        "else:\n",
        "    print(\"La colonne 'text' est introuvable dans le dataset.\")\n",
        "\n",
        "# Enregistrer les résultats dans un nouveau fichier CSV\n",
        "articles_df.to_csv(\"articles_with_tokens.csv\", index=False)\n",
        "print(\"\\nLe fichier avec les tokens a été enregistré sous le nom 'articles_with_tokens.csv'.\")\n"
      ],
      "metadata": {
        "colab": {
          "base_uri": "https://localhost:8080/"
        },
        "id": "Ql02EW2fPrnf",
        "outputId": "e553b220-3ea7-4a4a-8c72-90c119200978"
      },
      "execution_count": null,
      "outputs": [
        {
          "output_type": "stream",
          "name": "stdout",
          "text": [
            "Aperçu des données :\n",
            "             author claps  reading_time  \\\n",
            "0        Justin Lee  8.3K            11   \n",
            "1       Conor Dewey  1.4K             7   \n",
            "2  William Koehrsen  2.8K            11   \n",
            "3      Gant Laborde  1.3K             7   \n",
            "4  Emmanuel Ameisen   935            11   \n",
            "\n",
            "                                                link  \\\n",
            "0  https://medium.com/swlh/chatbots-were-the-next...   \n",
            "1  https://towardsdatascience.com/python-for-data...   \n",
            "2  https://towardsdatascience.com/automated-featu...   \n",
            "3  https://medium.freecodecamp.org/machine-learni...   \n",
            "4  https://blog.insightdatascience.com/reinforcem...   \n",
            "\n",
            "                                               title  \\\n",
            "0  Chatbots were the next big thing: what happene...   \n",
            "1  Python for Data Science: 8 Concepts You May Ha...   \n",
            "2  Automated Feature Engineering in Python – Towa...   \n",
            "3  Machine Learning: how to go from Zero to Hero ...   \n",
            "4  Reinforcement Learning from scratch – Insight ...   \n",
            "\n",
            "                                                text  \n",
            "0  Oh, how the headlines blared:\\nChatbots were T...  \n",
            "1  If you’ve ever found yourself looking up the s...  \n",
            "2  Machine learning is increasingly moving from h...  \n",
            "3  If your understanding of A.I. and Machine Lear...  \n",
            "4  Want to learn about applied Artificial Intelli...  \n",
            "\n",
            "Exemple avec tokens :\n",
            "                                                text  \\\n",
            "0  Oh, how the headlines blared:\\nChatbots were T...   \n",
            "1  If you’ve ever found yourself looking up the s...   \n",
            "2  Machine learning is increasingly moving from h...   \n",
            "3  If your understanding of A.I. and Machine Lear...   \n",
            "4  Want to learn about applied Artificial Intelli...   \n",
            "\n",
            "                                              tokens  \n",
            "0  [oh, how, the, headlines, blared, chatbots, we...  \n",
            "1  [if, you, ve, ever, found, yourself, looking, ...  \n",
            "2  [machine, learning, is, increasingly, moving, ...  \n",
            "3  [if, your, understanding, of, a, i, and, machi...  \n",
            "4  [want, to, learn, about, applied, artificial, ...  \n",
            "\n",
            "Le fichier avec les tokens a été enregistré sous le nom 'articles_with_tokens.csv'.\n"
          ]
        }
      ]
    },
    {
      "cell_type": "markdown",
      "source": [
        "STOP WORDS\n",
        "\n",
        "\n",
        "1.   Charge et initialise l'ensemble des mots vides en anglais.\n",
        "2.   La fonction remove_stopwords filtre les tokens en supprimant ceux qui appartiennent à l'ensemble des stop words.\n",
        "3. Suppression des stop words via la fonction remove_stopwords :Les tokens filtrés (sans stop words) sont stockés dans une nouvelle colonne filtered_tokens.\n",
        "\n",
        "\n",
        "\n"
      ],
      "metadata": {
        "id": "aLibjp-Wbs1P"
      }
    },
    {
      "cell_type": "code",
      "source": [
        "import nltk\n",
        "from nltk.corpus import stopwords\n",
        "import re\n",
        "\n",
        "# Télécharger la liste des stop words (nécessaire pour la première fois)\n",
        "nltk.download('stopwords')\n",
        "\n",
        "# Charger la liste des stop words en anglais\n",
        "stop_words = set(stopwords.words('english'))\n",
        "\n",
        "# Fonction pour supprimer les stop words\n",
        "def remove_stopwords(tokens):\n",
        "    return [word for word in tokens if word not in stop_words]\n",
        "\n",
        "# Vérifiez si la colonne 'tokens' existe\n",
        "if 'tokens' in articles_df.columns:\n",
        "    # Appliquer la suppression des stop words\n",
        "    articles_df['filtered_tokens'] = articles_df['tokens'].apply(remove_stopwords)\n",
        "    print(\"\\nExemple après suppression des stop words :\")\n",
        "    print(articles_df[['tokens', 'filtered_tokens']].head())\n",
        "else:\n",
        "    print(\"La colonne 'tokens' est introuvable dans le dataset. Assurez-vous d'avoir effectué la tokenisation.\")\n",
        "\n",
        "# Enregistrer les résultats dans un nouveau fichier CSV\n",
        "articles_df.to_csv(\"articles_without_stopwords.csv\", index=False)\n",
        "print(\"\\nLe fichier avec les stop words supprimés a été enregistré sous le nom 'articles_without_stopwords.csv'.\")\n"
      ],
      "metadata": {
        "colab": {
          "base_uri": "https://localhost:8080/"
        },
        "id": "AGg_AUi4QM0X",
        "outputId": "c8932e07-ebe1-4081-9e81-8df9a2e61b41"
      },
      "execution_count": null,
      "outputs": [
        {
          "output_type": "stream",
          "name": "stderr",
          "text": [
            "[nltk_data] Downloading package stopwords to /root/nltk_data...\n",
            "[nltk_data]   Unzipping corpora/stopwords.zip.\n"
          ]
        },
        {
          "output_type": "stream",
          "name": "stdout",
          "text": [
            "\n",
            "Exemple après suppression des stop words :\n",
            "                                              tokens  \\\n",
            "0  [oh, how, the, headlines, blared, chatbots, we...   \n",
            "1  [if, you, ve, ever, found, yourself, looking, ...   \n",
            "2  [machine, learning, is, increasingly, moving, ...   \n",
            "3  [if, your, understanding, of, a, i, and, machi...   \n",
            "4  [want, to, learn, about, applied, artificial, ...   \n",
            "\n",
            "                                     filtered_tokens  \n",
            "0  [oh, headlines, blared, chatbots, next, big, t...  \n",
            "1  [ever, found, looking, question, concept, synt...  \n",
            "2  [machine, learning, increasingly, moving, hand...  \n",
            "3  [understanding, machine, learning, big, questi...  \n",
            "4  [want, learn, applied, artificial, intelligenc...  \n",
            "\n",
            "Le fichier avec les stop words supprimés a été enregistré sous le nom 'articles_without_stopwords.csv'.\n"
          ]
        }
      ]
    },
    {
      "cell_type": "markdown",
      "source": [
        "le stemming (réduction des mots à leur racine ou base)\n",
        "\n",
        "La fonction apply_stemming applique le stemming à chaque mot d'une liste de tokens (réduction des mots à leur forme racine).\n",
        "\n",
        "Si la colonne filtered_tokens existe, le stemming est appliqué sur chaque ligne, et les résultats sont stockés dans une nouvelle colonne stemmed_tokens.\n",
        "\n",
        "Enregistrement des résultats : Enregistre le DataFrame mis à jour avec la colonne stemmed_tokens dans un fichier CSV nommé articles_with_stemming.csv."
      ],
      "metadata": {
        "id": "G3LA8XftcFc2"
      }
    },
    {
      "cell_type": "code",
      "source": [
        "from nltk.stem import PorterStemmer\n",
        "\n",
        "# Initialiser le stemmer\n",
        "stemmer = PorterStemmer()\n",
        "\n",
        "# Fonction pour appliquer le stemming\n",
        "def apply_stemming(tokens):\n",
        "    return [stemmer.stem(word) for word in tokens]\n",
        "\n",
        "# Vérifiez si la colonne 'filtered_tokens' existe\n",
        "if 'filtered_tokens' in articles_df.columns:\n",
        "    # Appliquer le stemming\n",
        "    articles_df['stemmed_tokens'] = articles_df['filtered_tokens'].apply(apply_stemming)\n",
        "    print(\"\\nExemple après stemming :\")\n",
        "    print(articles_df[['filtered_tokens', 'stemmed_tokens']].head())\n",
        "else:\n",
        "    print(\"La colonne 'filtered_tokens' est introuvable. Assurez-vous d'avoir supprimé les stop words.\")\n",
        "\n",
        "# Enregistrer les résultats dans un nouveau fichier CSV\n",
        "articles_df.to_csv(\"articles_with_stemming.csv\", index=False)\n",
        "print(\"\\nLe fichier avec le stemming appliqué a été enregistré sous le nom 'articles_with_stemming.csv'.\")\n"
      ],
      "metadata": {
        "colab": {
          "base_uri": "https://localhost:8080/"
        },
        "id": "Eip_bq9qRiNZ",
        "outputId": "326badda-cbd4-4f9c-f825-16525e0d0a7f"
      },
      "execution_count": null,
      "outputs": [
        {
          "output_type": "stream",
          "name": "stdout",
          "text": [
            "\n",
            "Exemple après stemming :\n",
            "                                     filtered_tokens  \\\n",
            "0  [oh, headlines, blared, chatbots, next, big, t...   \n",
            "1  [ever, found, looking, question, concept, synt...   \n",
            "2  [machine, learning, increasingly, moving, hand...   \n",
            "3  [understanding, machine, learning, big, questi...   \n",
            "4  [want, learn, applied, artificial, intelligenc...   \n",
            "\n",
            "                                      stemmed_tokens  \n",
            "0  [oh, headlin, blare, chatbot, next, big, thing...  \n",
            "1  [ever, found, look, question, concept, syntax,...  \n",
            "2  [machin, learn, increasingli, move, hand, desi...  \n",
            "3  [understand, machin, learn, big, question, mar...  \n",
            "4  [want, learn, appli, artifici, intellig, lead,...  \n",
            "\n",
            "Le fichier avec le stemming appliqué a été enregistré sous le nom 'articles_with_stemming.csv'.\n"
          ]
        }
      ]
    },
    {
      "cell_type": "markdown",
      "source": [
        "TF IDF SANS NETTOYAGE"
      ],
      "metadata": {
        "id": "UBB5kQr-SOwW"
      }
    },
    {
      "cell_type": "code",
      "source": [
        "from sklearn.feature_extraction.text import TfidfVectorizer\n",
        "\n",
        "# Combine tokens pour chaque article en une chaîne de texte\n",
        "articles_df['processed_text'] = articles_df['stemmed_tokens'].apply(lambda tokens: ' '.join(tokens))\n",
        "\n",
        "# Initialiser le TF-IDF Vectorizer\n",
        "tfidf_vectorizer = TfidfVectorizer()\n",
        "\n",
        "# Calculer les scores TF-IDF\n",
        "tfidf_matrix = tfidf_vectorizer.fit_transform(articles_df['processed_text'])\n",
        "\n",
        "# Convertir la matrice TF-IDF en DataFrame pour inspection\n",
        "tfidf_df = pd.DataFrame(\n",
        "    tfidf_matrix.toarray(),\n",
        "    columns=tfidf_vectorizer.get_feature_names_out()\n",
        ")\n",
        "\n",
        "# Afficher les premiers résultats\n",
        "print(\"\\nAperçu des scores TF-IDF :\")\n",
        "print(tfidf_df.head())\n",
        "\n",
        "# Enregistrer les résultats dans un fichier CSV\n",
        "tfidf_df.to_csv(\"tfidf_scores.csv\", index=False)\n",
        "print(\"\\nLe fichier des scores TF-IDF a été enregistré sous le nom 'tfidf_scores.csv'.\")\n"
      ],
      "metadata": {
        "colab": {
          "base_uri": "https://localhost:8080/"
        },
        "id": "LRKs9TM2RsxX",
        "outputId": "70da8ef3-d36e-4d7b-c42d-fdd8c90888fb"
      },
      "execution_count": null,
      "outputs": [
        {
          "output_type": "stream",
          "name": "stdout",
          "text": [
            "\n",
            "Aperçu des scores TF-IDF :\n",
            "    00       000  0000  00000  0001  0002which  00061  00078  000assum  000th  \\\n",
            "0  0.0  0.015167   0.0    0.0   0.0        0.0    0.0    0.0       0.0    0.0   \n",
            "1  0.0  0.000000   0.0    0.0   0.0        0.0    0.0    0.0       0.0    0.0   \n",
            "2  0.0  0.000000   0.0    0.0   0.0        0.0    0.0    0.0       0.0    0.0   \n",
            "3  0.0  0.000000   0.0    0.0   0.0        0.0    0.0    0.0       0.0    0.0   \n",
            "4  0.0  0.000000   0.0    0.0   0.0        0.0    0.0    0.0       0.0    0.0   \n",
            "\n",
            "   ...  记录一下  说实话  还是看代码比较有感觉  还是要多对照着代码看  这一阵为了工作上的关系  这个步骤并不适合各位读博士发论文的同学们  \\\n",
            "0  ...   0.0  0.0         0.0         0.0          0.0                   0.0   \n",
            "1  ...   0.0  0.0         0.0         0.0          0.0                   0.0   \n",
            "2  ...   0.0  0.0         0.0         0.0          0.0                   0.0   \n",
            "3  ...   0.0  0.0         0.0         0.0          0.0                   0.0   \n",
            "4  ...   0.0  0.0         0.0         0.0          0.0                   0.0   \n",
            "\n",
            "   这样前前后后  都没读完而且得到到信息也很有限  除了集体智慧编程这本书之外基本没怎么看过机器学习的人来说  高久力  \n",
            "0     0.0              0.0                           0.0  0.0  \n",
            "1     0.0              0.0                           0.0  0.0  \n",
            "2     0.0              0.0                           0.0  0.0  \n",
            "3     0.0              0.0                           0.0  0.0  \n",
            "4     0.0              0.0                           0.0  0.0  \n",
            "\n",
            "[5 rows x 13792 columns]\n",
            "\n",
            "Le fichier des scores TF-IDF a été enregistré sous le nom 'tfidf_scores.csv'.\n"
          ]
        }
      ]
    },
    {
      "cell_type": "markdown",
      "source": [
        "TF IDF AVEC NETTOYAGE\n",
        "\n",
        " Elle permet de mesurer l'importance d'un mot dans un document par rapport à un ensemble de documents.\n",
        "\n",
        "Supprimer les caractères non alphabétiques.\n",
        "Convertir tout le texte en minuscules.\n",
        "\n",
        "Applique le vecteur TF-IDF sur la colonne cleaned_text pour créer une matrice TF-IDF.\n",
        "\n",
        "Convertit cette matrice en un DataFrame Pandas, où :\n",
        "Chaque colonne représente un mot unique (caractéristique).\n",
        "Chaque ligne contient les scores TF-IDF pour un document."
      ],
      "metadata": {
        "id": "fUUkQ70QShfc"
      }
    },
    {
      "cell_type": "code",
      "source": [
        "import pandas as pd\n",
        "from sklearn.feature_extraction.text import TfidfVectorizer\n",
        "import re\n",
        " #Elle permet de mesurer l'importance d'un mot dans un  ARTICLE par raPPORT AUX AUTRES ARTICLES\n",
        "\n",
        "# Remplacez 'articles.csv' par le nom exact du fichier chargé\n",
        "file_name = list(uploaded.keys())[0]\n",
        "articles_df = pd.read_csv(file_name)\n",
        "\n",
        "# Vérifiez les premières lignes pour valider le chargement des données\n",
        "print(\"Aperçu des données initiales :\")\n",
        "print(articles_df.head())\n",
        "\n",
        "# Étape 2 : Nettoyage supplémentaire avant TF-IDF\n",
        "def clean_text(text):\n",
        "    # Supprimer les caractères non alphabétiques et convertir en minuscule\n",
        "    return ' '.join(re.findall(r'[a-zA-Z]+', str(text).lower()))\n",
        "\n",
        "# Nettoyer le texte dans une nouvelle colonne\n",
        "articles_df['cleaned_text'] = articles_df['text'].apply(clean_text)\n",
        "\n",
        "# Étape 3 : Calcul des scores TF-IDF\n",
        "# Initialiser le TfidfVectorizer\n",
        "tfidf_vectorizer = TfidfVectorizer()\n",
        "\n",
        "# Calculer la matrice TF-IDF\n",
        "tfidf_matrix = tfidf_vectorizer.fit_transform(articles_df['cleaned_text'])\n",
        "\n",
        "# Convertir la matrice TF-IDF en DataFrame\n",
        "tfidf_df = pd.DataFrame(\n",
        "    tfidf_matrix.toarray(),\n",
        "    columns=tfidf_vectorizer.get_feature_names_out()\n",
        ")\n",
        "\n",
        "# Afficher un aperçu des scores TF-IDF\n",
        "print(\"\\nAperçu des scores TF-IDF :\")\n",
        "print(tfidf_df.head(20))\n",
        "\n",
        "# Étape 4 : Sauvegarder le résultat dans un fichier CSV\n",
        "tfidf_df.to_csv(\"tfidf_scores.csv\", index=False)\n",
        "print(\"\\nLe fichier des scores TF-IDF a été enregistré sous le nom 'tfidf_scores.csv'.\")\n"
      ],
      "metadata": {
        "colab": {
          "base_uri": "https://localhost:8080/"
        },
        "id": "_O7loFajSRT7",
        "outputId": "ef07c2fe-3514-4658-c7c3-70ad137f140e"
      },
      "execution_count": null,
      "outputs": [
        {
          "output_type": "stream",
          "name": "stdout",
          "text": [
            "Aperçu des données initiales :\n",
            "             author claps  reading_time  \\\n",
            "0        Justin Lee  8.3K            11   \n",
            "1       Conor Dewey  1.4K             7   \n",
            "2  William Koehrsen  2.8K            11   \n",
            "3      Gant Laborde  1.3K             7   \n",
            "4  Emmanuel Ameisen   935            11   \n",
            "\n",
            "                                                link  \\\n",
            "0  https://medium.com/swlh/chatbots-were-the-next...   \n",
            "1  https://towardsdatascience.com/python-for-data...   \n",
            "2  https://towardsdatascience.com/automated-featu...   \n",
            "3  https://medium.freecodecamp.org/machine-learni...   \n",
            "4  https://blog.insightdatascience.com/reinforcem...   \n",
            "\n",
            "                                               title  \\\n",
            "0  Chatbots were the next big thing: what happene...   \n",
            "1  Python for Data Science: 8 Concepts You May Ha...   \n",
            "2  Automated Feature Engineering in Python – Towa...   \n",
            "3  Machine Learning: how to go from Zero to Hero ...   \n",
            "4  Reinforcement Learning from scratch – Insight ...   \n",
            "\n",
            "                                                text  \n",
            "0  Oh, how the headlines blared:\\nChatbots were T...  \n",
            "1  If you’ve ever found yourself looking up the s...  \n",
            "2  Machine learning is increasingly moving from h...  \n",
            "3  If your understanding of A.I. and Machine Lear...  \n",
            "4  Want to learn about applied Artificial Intelli...  \n",
            "\n",
            "Aperçu des scores TF-IDF :\n",
            "    aaand  aaauu  aae       aah  aarhus     aaron   ab  aback  abaixo  \\\n",
            "0     0.0    0.0  0.0  0.000000     0.0  0.000000  0.0    0.0     0.0   \n",
            "1     0.0    0.0  0.0  0.000000     0.0  0.000000  0.0    0.0     0.0   \n",
            "2     0.0    0.0  0.0  0.000000     0.0  0.000000  0.0    0.0     0.0   \n",
            "3     0.0    0.0  0.0  0.000000     0.0  0.000000  0.0    0.0     0.0   \n",
            "4     0.0    0.0  0.0  0.000000     0.0  0.000000  0.0    0.0     0.0   \n",
            "5     0.0    0.0  0.0  0.000000     0.0  0.000000  0.0    0.0     0.0   \n",
            "6     0.0    0.0  0.0  0.000000     0.0  0.000000  0.0    0.0     0.0   \n",
            "7     0.0    0.0  0.0  0.000000     0.0  0.000000  0.0    0.0     0.0   \n",
            "8     0.0    0.0  0.0  0.000000     0.0  0.000000  0.0    0.0     0.0   \n",
            "9     0.0    0.0  0.0  0.014802     0.0  0.000000  0.0    0.0     0.0   \n",
            "10    0.0    0.0  0.0  0.000000     0.0  0.000000  0.0    0.0     0.0   \n",
            "11    0.0    0.0  0.0  0.000000     0.0  0.000000  0.0    0.0     0.0   \n",
            "12    0.0    0.0  0.0  0.000000     0.0  0.014765  0.0    0.0     0.0   \n",
            "13    0.0    0.0  0.0  0.000000     0.0  0.000000  0.0    0.0     0.0   \n",
            "14    0.0    0.0  0.0  0.000000     0.0  0.000000  0.0    0.0     0.0   \n",
            "15    0.0    0.0  0.0  0.000000     0.0  0.000000  0.0    0.0     0.0   \n",
            "16    0.0    0.0  0.0  0.000000     0.0  0.000000  0.0    0.0     0.0   \n",
            "17    0.0    0.0  0.0  0.000000     0.0  0.000000  0.0    0.0     0.0   \n",
            "18    0.0    0.0  0.0  0.000000     0.0  0.000000  0.0    0.0     0.0   \n",
            "19    0.0    0.0  0.0  0.000000     0.0  0.000000  0.0    0.0     0.0   \n",
            "\n",
            "    abandoned  ...  zoo  zoologist  zoom  zorn  zoubin       ztm  zuckerberg  \\\n",
            "0         0.0  ...  0.0        0.0   0.0   0.0     0.0  0.000000    0.000000   \n",
            "1         0.0  ...  0.0        0.0   0.0   0.0     0.0  0.000000    0.000000   \n",
            "2         0.0  ...  0.0        0.0   0.0   0.0     0.0  0.000000    0.000000   \n",
            "3         0.0  ...  0.0        0.0   0.0   0.0     0.0  0.000000    0.000000   \n",
            "4         0.0  ...  0.0        0.0   0.0   0.0     0.0  0.000000    0.000000   \n",
            "5         0.0  ...  0.0        0.0   0.0   0.0     0.0  0.000000    0.000000   \n",
            "6         0.0  ...  0.0        0.0   0.0   0.0     0.0  0.000000    0.000000   \n",
            "7         0.0  ...  0.0        0.0   0.0   0.0     0.0  0.000000    0.000000   \n",
            "8         0.0  ...  0.0        0.0   0.0   0.0     0.0  0.000000    0.000000   \n",
            "9         0.0  ...  0.0        0.0   0.0   0.0     0.0  0.000000    0.000000   \n",
            "10        0.0  ...  0.0        0.0   0.0   0.0     0.0  0.000000    0.000000   \n",
            "11        0.0  ...  0.0        0.0   0.0   0.0     0.0  0.000000    0.000000   \n",
            "12        0.0  ...  0.0        0.0   0.0   0.0     0.0  0.000000    0.000000   \n",
            "13        0.0  ...  0.0        0.0   0.0   0.0     0.0  0.000000    0.000000   \n",
            "14        0.0  ...  0.0        0.0   0.0   0.0     0.0  0.000000    0.000000   \n",
            "15        0.0  ...  0.0        0.0   0.0   0.0     0.0  0.000000    0.000000   \n",
            "16        0.0  ...  0.0        0.0   0.0   0.0     0.0  0.000000    0.018165   \n",
            "17        0.0  ...  0.0        0.0   0.0   0.0     0.0  0.000000    0.000000   \n",
            "18        0.0  ...  0.0        0.0   0.0   0.0     0.0  0.000000    0.000000   \n",
            "19        0.0  ...  0.0        0.0   0.0   0.0     0.0  0.008438    0.000000   \n",
            "\n",
            "    zumba  zurich  zxq  \n",
            "0     0.0     0.0  0.0  \n",
            "1     0.0     0.0  0.0  \n",
            "2     0.0     0.0  0.0  \n",
            "3     0.0     0.0  0.0  \n",
            "4     0.0     0.0  0.0  \n",
            "5     0.0     0.0  0.0  \n",
            "6     0.0     0.0  0.0  \n",
            "7     0.0     0.0  0.0  \n",
            "8     0.0     0.0  0.0  \n",
            "9     0.0     0.0  0.0  \n",
            "10    0.0     0.0  0.0  \n",
            "11    0.0     0.0  0.0  \n",
            "12    0.0     0.0  0.0  \n",
            "13    0.0     0.0  0.0  \n",
            "14    0.0     0.0  0.0  \n",
            "15    0.0     0.0  0.0  \n",
            "16    0.0     0.0  0.0  \n",
            "17    0.0     0.0  0.0  \n",
            "18    0.0     0.0  0.0  \n",
            "19    0.0     0.0  0.0  \n",
            "\n",
            "[20 rows x 18297 columns]\n",
            "\n",
            "Le fichier des scores TF-IDF a été enregistré sous le nom 'tfidf_scores.csv'.\n"
          ]
        }
      ]
    },
    {
      "cell_type": "markdown",
      "source": [
        "**FIREFLY** pour la sélection des features sur matrice TF-IDF\n",
        "\n",
        "sélectionner un ensemble optimal de mots (ou caractéristiques) les plus pertinents pour une analyse basée sur les scores TF-IDF\n"
      ],
      "metadata": {
        "id": "V7v9WdwOSlZS"
      }
    },
    {
      "cell_type": "code",
      "source": [
        "import numpy as np\n",
        "import pandas as pd\n",
        "from sklearn.feature_extraction.text import TfidfVectorizer\n",
        "from sklearn.metrics import mutual_info_score\n",
        "\n",
        "# Charger les scores TF-IDF\n",
        "tfidf_df = pd.read_csv(\"tfidf_scores.csv\")\n",
        "\n",
        "# Définir Paramètres de l'algorithme Firefly\n",
        "num_fireflies = 10  # Nombre de solutions initiales (ou lucioles)\n",
        "max_iterations = 50  # Nombre maximal d'itérations\n",
        "gamma = 1  # Coefficient d'attractivité\n",
        "beta0 = 1  # Attractivité initiale\n",
        "alpha = 0.2  # Facteur aléatoire\n",
        "num_features = 10  # Nombre de caractéristiques à sélectionner\n",
        "\n",
        "# Fonction objectif : Mutual Information pour évaluer l'importance des features\n",
        "def objective_function(selected_features, tfidf_data):\n",
        "    # Calcule la somme des scores TF-IDF des features sélectionnées\n",
        "    subset = tfidf_data[:, selected_features]\n",
        "    importance = np.sum(subset, axis=1)\n",
        "    return np.mean(importance)\n",
        "\n",
        "# Initialiser les lucioles (solutions aléatoires)\n",
        "num_words = tfidf_df.shape[1]\n",
        "fireflies = [np.random.choice(range(num_words), size=num_features, replace=False) for _ in range(num_fireflies)]\n",
        "tfidf_matrix = tfidf_df.to_numpy()\n",
        "\n",
        "# Exécuter l'algorithme Firefly\n",
        "for iteration in range(max_iterations):\n",
        "    for i in range(num_fireflies):\n",
        "        for j in range(num_fireflies):\n",
        "            if i != j:\n",
        "                # Calculer la luminosité (fonction objectif)\n",
        "                brightness_i = objective_function(fireflies[i], tfidf_matrix)\n",
        "                brightness_j = objective_function(fireflies[j], tfidf_matrix)\n",
        "                if brightness_j > brightness_i:\n",
        "                    # Déplacer la luciole i vers la luciole j\n",
        "                    for k in range(num_features):\n",
        "                        r = np.linalg.norm(fireflies[i] - fireflies[j])  # Distance entre lucioles\n",
        "                        beta = beta0 * np.exp(-gamma * r**2)\n",
        "                        fireflies[i][k] += beta * (fireflies[j][k] - fireflies[i][k]) + alpha * np.random.uniform()\n",
        "\n",
        "# Sélectionner la meilleure solution\n",
        "best_firefly = max(fireflies, key=lambda f: objective_function(f, tfidf_matrix))\n",
        "selected_features = [tfidf_df.columns[int(idx)] for idx in best_firefly]\n",
        "\n",
        "print(\"Les caractéristiques sélectionnées par l'algorithme Firefly sont :\")\n",
        "print(selected_features)\n"
      ],
      "metadata": {
        "colab": {
          "base_uri": "https://localhost:8080/"
        },
        "id": "SHZ2oqitSk6q",
        "outputId": "c30d1b83-6cf1-4f28-d00d-c93a1b9b9a2d"
      },
      "execution_count": null,
      "outputs": [
        {
          "output_type": "stream",
          "name": "stdout",
          "text": [
            "Les caractéristiques sélectionnées par l'algorithme Firefly sont :\n",
            "['unfortunate', 'sensorimotor', 'bercy', 'drones', 'limitations', 'authentic', 'wgan', 'will', 'aujourd', 'overrepresentation']\n"
          ]
        }
      ]
    },
    {
      "cell_type": "markdown",
      "source": [
        "*Chi²* sur une matrice TF-IDF\n",
        "\n",
        "Le test Chi² est appliqué pour sélectionner les 10 caractéristiques les plus pertinentes en fonction de leur relation avec la cible. Cela permet de réduire la dimensionnalité en conservant les mots les plus informatifs."
      ],
      "metadata": {
        "id": "ytlmTCoaTi54"
      }
    },
    {
      "cell_type": "code",
      "source": [
        "import pandas as pd\n",
        "from sklearn.feature_selection import chi2, SelectKBest\n",
        "from sklearn.feature_extraction.text import TfidfVectorizer\n",
        "from sklearn.preprocessing import LabelEncoder\n",
        "from google.colab import files\n",
        "\n",
        "# Charger votre fichier CSV\n",
        "file_name = list(uploaded.keys())[0]\n",
        "articles_df = pd.read_csv(file_name)\n",
        "\n",
        "# Vérifiez les colonnes disponibles\n",
        "print(\"Colonnes disponibles :\", articles_df.columns)\n",
        "\n",
        "# Étape 1 : Générer une colonne cible fictive\n",
        "# Supposons que vous avez deux catégories : 0 et 1\n",
        "articles_df['target'] = [0, 1] * (len(articles_df) // 2) + [0] * (len(articles_df) % 2)\n",
        "\n",
        "# Vérifiez l'ajout de la colonne target\n",
        "print(\"\\nAperçu des données avec la colonne cible ajoutée :\")\n",
        "print(articles_df.head())\n",
        "\n",
        "# Étape 2 : Convertir le texte en matrice TF-IDF\n",
        "text_column = 'text'  # Colonne contenant le texte\n",
        "vectorizer = TfidfVectorizer()\n",
        "tfidf_matrix = vectorizer.fit_transform(articles_df[text_column])\n",
        "\n",
        "# Étape 3 : Encodage de la variable cible\n",
        "label_encoder = LabelEncoder()\n",
        "target_encoded = label_encoder.fit_transform(articles_df['target'])\n",
        "\n",
        "# Étape 4 : Appliquer le test Chi²\n",
        "chi2_selector = SelectKBest(chi2, k=10)  # Sélectionner les 10 meilleures caractéristiques\n",
        "tfidf_chi2 = chi2_selector.fit_transform(tfidf_matrix, target_encoded)\n",
        "\n",
        "# Obtenir les caractéristiques sélectionnées\n",
        "selected_features = [vectorizer.get_feature_names_out()[i] for i in chi2_selector.get_support(indices=True)]\n",
        "\n",
        "print(\"\\nLes 10 caractéristiques les plus significatives sélectionnées par Chi² sont :\")\n",
        "print(selected_features)\n",
        "\n",
        "# Étape 5 : Sauvegarder les résultats dans un fichier CSV\n",
        "selected_df = pd.DataFrame({\n",
        "    'Feature': selected_features,\n",
        "    'Score': chi2_selector.scores_[chi2_selector.get_support()]\n",
        "})\n",
        "selected_df.to_csv(\"selected_features_chi2.csv\", index=False)\n",
        "print(\"\\nLes résultats ont été enregistrés dans 'selected_features_chi2.csv'.\")\n"
      ],
      "metadata": {
        "colab": {
          "base_uri": "https://localhost:8080/"
        },
        "id": "_iRP8MOUSmoJ",
        "outputId": "992f529a-9c2a-4633-eec4-7fd184d5fff2"
      },
      "execution_count": null,
      "outputs": [
        {
          "output_type": "stream",
          "name": "stdout",
          "text": [
            "Colonnes disponibles : Index(['author', 'claps', 'reading_time', 'link', 'title', 'text'], dtype='object')\n",
            "\n",
            "Aperçu des données avec la colonne cible ajoutée :\n",
            "             author claps  reading_time  \\\n",
            "0        Justin Lee  8.3K            11   \n",
            "1       Conor Dewey  1.4K             7   \n",
            "2  William Koehrsen  2.8K            11   \n",
            "3      Gant Laborde  1.3K             7   \n",
            "4  Emmanuel Ameisen   935            11   \n",
            "\n",
            "                                                link  \\\n",
            "0  https://medium.com/swlh/chatbots-were-the-next...   \n",
            "1  https://towardsdatascience.com/python-for-data...   \n",
            "2  https://towardsdatascience.com/automated-featu...   \n",
            "3  https://medium.freecodecamp.org/machine-learni...   \n",
            "4  https://blog.insightdatascience.com/reinforcem...   \n",
            "\n",
            "                                               title  \\\n",
            "0  Chatbots were the next big thing: what happene...   \n",
            "1  Python for Data Science: 8 Concepts You May Ha...   \n",
            "2  Automated Feature Engineering in Python – Towa...   \n",
            "3  Machine Learning: how to go from Zero to Hero ...   \n",
            "4  Reinforcement Learning from scratch – Insight ...   \n",
            "\n",
            "                                                text  target  \n",
            "0  Oh, how the headlines blared:\\nChatbots were T...       0  \n",
            "1  If you’ve ever found yourself looking up the s...       1  \n",
            "2  Machine learning is increasingly moving from h...       0  \n",
            "3  If your understanding of A.I. and Machine Lear...       1  \n",
            "4  Want to learn about applied Artificial Intelli...       0  \n",
            "\n",
            "Les 10 caractéristiques les plus significatives sélectionnées par Chi² sont :\n",
            "['blockchain', 'cheat', 'music', 'rating', 'reviews', 'romance', 'sheet', 'spotify', 'table', 'titles']\n",
            "\n",
            "Les résultats ont été enregistrés dans 'selected_features_chi2.csv'.\n"
          ]
        }
      ]
    },
    {
      "cell_type": "markdown",
      "source": [
        "K-MEANS pour regrouper des articles (ou documents) en fonction de leurs similarités textuelles,"
      ],
      "metadata": {
        "id": "9zWhIEfkZqgO"
      }
    },
    {
      "cell_type": "code",
      "source": [
        "from sklearn.cluster import KMeans\n",
        "import matplotlib.pyplot as plt\n",
        "\n",
        "# Étape 5 : Appliquer K-Means pour le clustering\n",
        "# Définir le nombre de clusters\n",
        "k = 3\n",
        "kmeans = KMeans(n_clusters=k, random_state=42)\n",
        "\n",
        "# Ajuster le modèle K-Means sur la matrice TF-IDF\n",
        "kmeans.fit(tfidf_matrix)\n",
        "\n",
        "# Ajouter les labels des clusters au DataFrame original\n",
        "articles_df['cluster'] = kmeans.labels_\n",
        "\n",
        "# Afficher un aperçu des articles avec leurs clusters\n",
        "print(\"\\nAperçu des clusters :\")\n",
        "print(articles_df[['text', 'cluster']].head())\n",
        "\n",
        "# Étape 6 : Visualisation des clusters (optionnelle)\n",
        "# Réduction de la dimension avec PCA pour visualiser les clusters\n",
        "#la PCA permet de simplifier les données tout en conservant l'information essentielle.\n",
        "from sklearn.decomposition import PCA\n",
        "\n",
        "pca = PCA(n_components=2)\n",
        "reduced_data = pca.fit_transform(tfidf_matrix.toarray())\n",
        "\n",
        "# Créer un scatter plot des clusters\n",
        "#Un scatter plot est créé pour afficher les points dans l'espace réduit, avec des couleurs différentes pour chaque cluster.\n",
        "plt.figure(figsize=(10, 7))\n",
        "for cluster in range(k):\n",
        "    cluster_points = reduced_data[articles_df['cluster'] == cluster]\n",
        "    plt.scatter(cluster_points[:, 0], cluster_points[:, 1], label=f'Cluster {cluster}')\n",
        "\n",
        "plt.title(\"Visualisation des Clusters avec PCA\")\n",
        "plt.xlabel(\"Dimension 1\")\n",
        "plt.ylabel(\"Dimension 2\")\n",
        "plt.legend()\n",
        "plt.show()\n",
        "\n",
        "# Sauvegarder les résultats des clusters dans un fichier CSV\n",
        "articles_df.to_csv(\"articles_with_clusters.csv\", index=False)\n",
        "print(\"\\nLes résultats des clusters ont été enregistrés dans 'articles_with_clusters.csv'.\")\n"
      ],
      "metadata": {
        "colab": {
          "base_uri": "https://localhost:8080/",
          "height": 721
        },
        "id": "HL_bB-3QUIHP",
        "outputId": "0a0feb8d-427d-45d3-84d2-373754d30514"
      },
      "execution_count": null,
      "outputs": [
        {
          "output_type": "stream",
          "name": "stdout",
          "text": [
            "\n",
            "Aperçu des clusters :\n",
            "                                                text  cluster\n",
            "0  Oh, how the headlines blared:\\nChatbots were T...        2\n",
            "1  If you’ve ever found yourself looking up the s...        2\n",
            "2  Machine learning is increasingly moving from h...        2\n",
            "3  If your understanding of A.I. and Machine Lear...        2\n",
            "4  Want to learn about applied Artificial Intelli...        0\n"
          ]
        },
        {
          "output_type": "display_data",
          "data": {
            "text/plain": [
              "<Figure size 1000x700 with 1 Axes>"
            ],
            "image/png": "[encoded data removed]"
          },
          "metadata": {}
        },
        {
          "output_type": "stream",
          "name": "stdout",
          "text": [
            "\n",
            "Les résultats des clusters ont été enregistrés dans 'articles_with_clusters.csv'.\n"
          ]
        }
      ]
    },
    {
      "cell_type": "markdown",
      "source": [
        "TF-IDF : Utilisé pour pondérer l'importance des mots dans les documents.\n",
        "\n",
        "\n",
        "Firefly Algorithm : Sélectionne les caractéristiques les plus significatives en maximisant l'importance mutuelle entre les mots.\n",
        "\n",
        "\n",
        "Chi² : Test statistique pour identifier les mots ayant une corrélation forte avec les catégories cibles.\n",
        "\n",
        "\n",
        "K-Means : Clustering pour regrouper les documents en fonction de leur similarité."
      ],
      "metadata": {
        "id": "8Oy0u_DCbAFZ"
      }
    }
  ]
}